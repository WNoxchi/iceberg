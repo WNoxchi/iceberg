{
 "cells": [
  {
   "cell_type": "markdown",
   "metadata": {},
   "source": [
    "# FastAI Kaggle Starter Kit"
   ]
  },
  {
   "cell_type": "markdown",
   "metadata": {},
   "source": [
    "WNixalo 16:16 22-Jan-2018\n",
    "\n",
    "Following along with: [this FastAI Kaggle starter kit](https://www.kaggle.com/timolee/fastai-kaggle-starter-kit-lb-0-33/) notebook. This is a copy of the first code-along; this time I'm using the full dataset for training."
   ]
  },
  {
   "cell_type": "markdown",
   "metadata": {},
   "source": [
    "## 1. Importing Libraries"
   ]
  },
  {
   "cell_type": "code",
   "execution_count": 1,
   "metadata": {},
   "outputs": [],
   "source": [
    "%matplotlib inline\n",
    "%config InlineBackend.figure_format = 'retina'"
   ]
  },
  {
   "cell_type": "code",
   "execution_count": 2,
   "metadata": {},
   "outputs": [],
   "source": [
    "import torch\n",
    "\n",
    "import shutil\n",
    "import os\n",
    "# sys.path.append('../repos/fastai/')\n",
    "\n",
    "import pandas as pd\n",
    "import numpy as np\n",
    "import matplotlib.pyplot as plt\n",
    "import seaborn as sns\n",
    "from PIL import Image, ImageFilter\n",
    "from scipy.ndimage import filters"
   ]
  },
  {
   "cell_type": "markdown",
   "metadata": {},
   "source": [
    "## 1.1 Importing FastAI Libraries"
   ]
  },
  {
   "cell_type": "code",
   "execution_count": 3,
   "metadata": {},
   "outputs": [],
   "source": [
    "from fastai.imports import *\n",
    "from fastai.transforms import *\n",
    "from fastai.conv_learner import *\n",
    "from fastai.model import *\n",
    "from fastai.dataset import *\n",
    "from fastai.sgdr import *\n",
    "from fastai.plots import *"
   ]
  },
  {
   "cell_type": "code",
   "execution_count": 4,
   "metadata": {},
   "outputs": [
    {
     "data": {
      "text/plain": [
       "0"
      ]
     },
     "execution_count": 4,
     "metadata": {},
     "output_type": "execute_result"
    }
   ],
   "source": [
    "torch.cuda.current_device()"
   ]
  },
  {
   "cell_type": "markdown",
   "metadata": {},
   "source": [
    "## 2. Data Prep"
   ]
  },
  {
   "cell_type": "code",
   "execution_count": 5,
   "metadata": {},
   "outputs": [],
   "source": [
    "train_df = pd.read_json('data/train.json')\n",
    "train_df['inc_angle'] = pd.to_numeric(train_df['inc_angle'], errors='coerce')"
   ]
  },
  {
   "cell_type": "code",
   "execution_count": 6,
   "metadata": {},
   "outputs": [
    {
     "name": "stdout",
     "output_type": "stream",
     "text": [
      "(1604, 5)\n"
     ]
    }
   ],
   "source": [
    "print(train_df.shape)"
   ]
  },
  {
   "cell_type": "markdown",
   "metadata": {},
   "source": [
    "## 2.1 Organizing Folders + Files for the FastAI Library"
   ]
  },
  {
   "cell_type": "code",
   "execution_count": 6,
   "metadata": {},
   "outputs": [],
   "source": [
    "PATH = 'data/'"
   ]
  },
  {
   "cell_type": "markdown",
   "metadata": {},
   "source": [
    "### Set file locations"
   ]
  },
  {
   "cell_type": "code",
   "execution_count": 7,
   "metadata": {},
   "outputs": [],
   "source": [
    "shipPath = 'data/train/ship/'\n",
    "icePath  = 'data/train/ice/'\n",
    "shipValid= 'data/valid/ship/'\n",
    "iceValid = 'data/valid/ice/'\n",
    "testPath = 'data/test/'"
   ]
  },
  {
   "cell_type": "markdown",
   "metadata": {},
   "source": [
    "### Clean up existing folders (drop all files)\n",
    "\n",
    "Clears out the folders so that files aren't double generated"
   ]
  },
  {
   "cell_type": "code",
   "execution_count": 8,
   "metadata": {},
   "outputs": [],
   "source": [
    "if not os.path.exists('data/train/'):\n",
    "    os.mkdir('data/train/')\n",
    "    os.mkdir(shipPath)\n",
    "    os.mkdir(icePath)\n",
    "if not os.path.exists('data/valid/'):\n",
    "    os.mkdir('data/valid/')\n",
    "    os.mkdir(shipValid)\n",
    "    os.mkdir(iceValid)\n",
    "if not os.path.exists('data/test/'):\n",
    "    os.mkdir('data/test/')\n",
    "\n",
    "shutil.rmtree(shipPath)\n",
    "os.mkdir(shipPath)\n",
    "\n",
    "shutil.rmtree(icePath)\n",
    "os.mkdir(icePath)\n",
    "\n",
    "shutil.rmtree(shipValid)\n",
    "os.mkdir(shipValid)\n",
    "\n",
    "shutil.rmtree(iceValid)\n",
    "os.mkdir(iceValid)\n",
    "\n",
    "shutil.rmtree(testPath)\n",
    "os.mkdir(testPath)\n",
    "\n",
    "os.makedirs('tmp', exist_ok=True)"
   ]
  },
  {
   "cell_type": "markdown",
   "metadata": {},
   "source": [
    "## 2.2 Image Creation (to Jpegs)"
   ]
  },
  {
   "cell_type": "markdown",
   "metadata": {},
   "source": [
    "### Creating training dataset in `train/iceberg` and `train/ship`"
   ]
  },
  {
   "cell_type": "markdown",
   "metadata": {},
   "source": [
    "#### Load Input Json"
   ]
  },
  {
   "cell_type": "code",
   "execution_count": 10,
   "metadata": {},
   "outputs": [
    {
     "data": {
      "text/plain": [
       "(1604, 5)"
      ]
     },
     "execution_count": 10,
     "metadata": {},
     "output_type": "execute_result"
    }
   ],
   "source": [
    "train_df.shape"
   ]
  },
  {
   "cell_type": "code",
   "execution_count": 9,
   "metadata": {},
   "outputs": [],
   "source": [
    "icebergs = train_df[train_df.is_iceberg==1]\n",
    "ships    = train_df[train_df.is_iceberg==0]"
   ]
  },
  {
   "cell_type": "markdown",
   "metadata": {},
   "source": [
    "#### Pull out the different Bands\n",
    "\n",
    "pictures to increase the dataset size. Some further development of combining the two matrices is possible\n",
    "\n",
    "https://www.kaggle.com/keremt/getting-color-composites"
   ]
  },
  {
   "cell_type": "code",
   "execution_count": 10,
   "metadata": {},
   "outputs": [],
   "source": [
    "def color_composite(data):\n",
    "    rgb_arrays = []\n",
    "    for i, row in data.iterrows():\n",
    "        band_1 = np.array(row['band_1']).reshape(75,75)\n",
    "        band_2 = np.array(row['band_2']).reshape(75,75)\n",
    "        band_z = band_1 / band_2\n",
    "        \n",
    "        r = (band_1 + abs(band_1.min())) / np.max((band_1 + abs(band_1.min())))\n",
    "        g = (band_2 + abs(band_2.min())) / np.max((band_2 + abs(band_2.min())))\n",
    "        b = (band_z + abs(band_z.min())) / np.max((band_z + abs(band_z.min())))\n",
    "        \n",
    "        rgb = np.dstack((r,g,b))\n",
    "        rgb_arrays.append(rgb)\n",
    "    \n",
    "    return np.array(rgb_arrays)"
   ]
  },
  {
   "cell_type": "code",
   "execution_count": 11,
   "metadata": {},
   "outputs": [],
   "source": [
    "iceberg_imgs = color_composite(icebergs)\n",
    "ship_imgs    = color_composite(ships)"
   ]
  },
  {
   "cell_type": "code",
   "execution_count": 12,
   "metadata": {},
   "outputs": [
    {
     "data": {
      "text/plain": [
       "(753, 75, 75, 3)"
      ]
     },
     "execution_count": 12,
     "metadata": {},
     "output_type": "execute_result"
    }
   ],
   "source": [
    "iceberg_imgs.shape"
   ]
  },
  {
   "cell_type": "code",
   "execution_count": 13,
   "metadata": {},
   "outputs": [
    {
     "data": {
      "text/plain": [
       "<matplotlib.image.AxesImage at 0x7f98c6b74a20>"
      ]
     },
     "execution_count": 13,
     "metadata": {},
     "output_type": "execute_result"
    },
    {
     "data": {
      "image/png": "[encoded data removed]",
      "text/plain": [
       "<matplotlib.figure.Figure at 0x7f98c879f518>"
      ]
     },
     "metadata": {
      "image/png": {
       "height": 250,
       "width": 253
      }
     },
     "output_type": "display_data"
    }
   ],
   "source": [
    "plt.imshow(iceberg_imgs[0])"
   ]
  },
  {
   "cell_type": "markdown",
   "metadata": {},
   "source": [
    "#### Functions to save to disk\n",
    "\n",
    "These two functions turn the long raveled vectors into matrices, and then save them to `.png` files with matplotlib."
   ]
  },
  {
   "cell_type": "code",
   "execution_count": 14,
   "metadata": {},
   "outputs": [],
   "source": [
    "import matplotlib\n",
    "\n",
    "def vec2Mat(vec):\n",
    "    return np.reshape(np.array(vec),(75,75))\n",
    "\n",
    "def saveMat(array, filename):\n",
    "    matplotlib.image.imsave(filename, array)"
   ]
  },
  {
   "cell_type": "markdown",
   "metadata": {},
   "source": [
    "#### Saving each training set to `.png` to its respective folder\n",
    "\n",
    "Loops through all different datasets and saves them to disk"
   ]
  },
  {
   "cell_type": "code",
   "execution_count": 15,
   "metadata": {},
   "outputs": [],
   "source": [
    "for i,x in enumerate(iceberg_imgs):\n",
    "    matplotlib.image.imsave(f'data/train/ice/ice_{i}.png', x)"
   ]
  },
  {
   "cell_type": "code",
   "execution_count": 16,
   "metadata": {},
   "outputs": [],
   "source": [
    "for i,x in enumerate(ship_imgs):\n",
    "    matplotlib.image.imsave(f'data/train/ship/ship_{i}.png', x)"
   ]
  },
  {
   "cell_type": "markdown",
   "metadata": {},
   "source": [
    "#### Creating the testset files in the `test` directory"
   ]
  },
  {
   "cell_type": "code",
   "execution_count": 17,
   "metadata": {},
   "outputs": [],
   "source": [
    "test_df = pd.read_json('data/test.json')"
   ]
  },
  {
   "cell_type": "code",
   "execution_count": 18,
   "metadata": {},
   "outputs": [
    {
     "data": {
      "text/html": [
       "<div>\n",
       "<style scoped>\n",
       "    .dataframe tbody tr th:only-of-type {\n",
       "        vertical-align: middle;\n",
       "    }\n",
       "\n",
       "    .dataframe tbody tr th {\n",
       "        vertical-align: top;\n",
       "    }\n",
       "\n",
       "    .dataframe thead th {\n",
       "        text-align: right;\n",
       "    }\n",
       "</style>\n",
       "<table border=\"1\" class=\"dataframe\">\n",
       "  <thead>\n",
       "    <tr style=\"text-align: right;\">\n",
       "      <th></th>\n",
       "      <th>band_1</th>\n",
       "      <th>band_2</th>\n",
       "      <th>id</th>\n",
       "      <th>inc_angle</th>\n",
       "    </tr>\n",
       "  </thead>\n",
       "  <tbody>\n",
       "    <tr>\n",
       "      <th>0</th>\n",
       "      <td>[-15.863251, -15.201077, -17.887735, -19.17248...</td>\n",
       "      <td>[-21.629612, -21.142353, -23.908337, -28.34524...</td>\n",
       "      <td>5941774d</td>\n",
       "      <td>34.966400</td>\n",
       "    </tr>\n",
       "    <tr>\n",
       "      <th>1</th>\n",
       "      <td>[-26.058969497680664, -26.058969497680664, -26...</td>\n",
       "      <td>[-25.754207611083984, -25.754207611083984, -25...</td>\n",
       "      <td>4023181e</td>\n",
       "      <td>32.615072</td>\n",
       "    </tr>\n",
       "    <tr>\n",
       "      <th>2</th>\n",
       "      <td>[-14.14109992980957, -15.064241409301758, -17....</td>\n",
       "      <td>[-14.74563980102539, -14.590410232543945, -14....</td>\n",
       "      <td>b20200e4</td>\n",
       "      <td>37.505433</td>\n",
       "    </tr>\n",
       "    <tr>\n",
       "      <th>3</th>\n",
       "      <td>[-12.167478, -13.706167, -16.54837, -13.572674...</td>\n",
       "      <td>[-24.32222, -26.375538, -24.096739, -23.8769, ...</td>\n",
       "      <td>e7f018bb</td>\n",
       "      <td>34.473900</td>\n",
       "    </tr>\n",
       "    <tr>\n",
       "      <th>4</th>\n",
       "      <td>[-23.37459373474121, -26.02718162536621, -28.1...</td>\n",
       "      <td>[-25.72234344482422, -27.011577606201172, -23....</td>\n",
       "      <td>4371c8c3</td>\n",
       "      <td>43.918874</td>\n",
       "    </tr>\n",
       "  </tbody>\n",
       "</table>\n",
       "</div>"
      ],
      "text/plain": [
       "                                              band_1  \\\n",
       "0  [-15.863251, -15.201077, -17.887735, -19.17248...   \n",
       "1  [-26.058969497680664, -26.058969497680664, -26...   \n",
       "2  [-14.14109992980957, -15.064241409301758, -17....   \n",
       "3  [-12.167478, -13.706167, -16.54837, -13.572674...   \n",
       "4  [-23.37459373474121, -26.02718162536621, -28.1...   \n",
       "\n",
       "                                              band_2        id  inc_angle  \n",
       "0  [-21.629612, -21.142353, -23.908337, -28.34524...  5941774d  34.966400  \n",
       "1  [-25.754207611083984, -25.754207611083984, -25...  4023181e  32.615072  \n",
       "2  [-14.74563980102539, -14.590410232543945, -14....  b20200e4  37.505433  \n",
       "3  [-24.32222, -26.375538, -24.096739, -23.8769, ...  e7f018bb  34.473900  \n",
       "4  [-25.72234344482422, -27.011577606201172, -23....  4371c8c3  43.918874  "
      ]
     },
     "execution_count": 18,
     "metadata": {},
     "output_type": "execute_result"
    }
   ],
   "source": [
    "test_df.head()"
   ]
  },
  {
   "cell_type": "code",
   "execution_count": 19,
   "metadata": {},
   "outputs": [],
   "source": [
    "test_imgs = color_composite(test_df)"
   ]
  },
  {
   "cell_type": "markdown",
   "metadata": {},
   "source": [
    "#### Saving the test `.png` files to disk"
   ]
  },
  {
   "cell_type": "code",
   "execution_count": 22,
   "metadata": {},
   "outputs": [
    {
     "data": {
      "text/plain": [
       "8424"
      ]
     },
     "execution_count": 22,
     "metadata": {},
     "output_type": "execute_result"
    }
   ],
   "source": [
    "len(test_imgs)"
   ]
  },
  {
   "cell_type": "code",
   "execution_count": 20,
   "metadata": {},
   "outputs": [],
   "source": [
    "for i,x in zip(test_df['id'], test_imgs):\n",
    "    matplotlib.image.imsave(f'data/test/im_{i}.png', x)"
   ]
  },
  {
   "cell_type": "markdown",
   "metadata": {},
   "source": [
    "#### Memory Cleanup\n",
    "\n",
    "(will work off files on disk, and delete variables in RAM)"
   ]
  },
  {
   "cell_type": "code",
   "execution_count": 21,
   "metadata": {},
   "outputs": [],
   "source": [
    "del train_df, test_df, iceberg_imgs, ship_imgs, icebergs, ships, test_imgs"
   ]
  },
  {
   "cell_type": "markdown",
   "metadata": {},
   "source": [
    "#### Image Processing (adding blur)"
   ]
  },
  {
   "cell_type": "code",
   "execution_count": 22,
   "metadata": {},
   "outputs": [],
   "source": [
    "icebergs = os.listdir('data/train/ice/')\n",
    "ships    = os.listdir('data/train/ship/')\n",
    "test     = os.listdir('data/test/')"
   ]
  },
  {
   "cell_type": "code",
   "execution_count": 23,
   "metadata": {},
   "outputs": [
    {
     "name": "stdout",
     "output_type": "stream",
     "text": [
      "processing icebergs\n",
      "processing ships\n",
      "processing test set\n"
     ]
    }
   ],
   "source": [
    "for x in icebergs:\n",
    "    pp = Image.open('data/train/ice/' + x)\n",
    "    pp = pp.filter(ImageFilter.MedianFilter(5))\n",
    "    pp = pp.filter(ImageFilter.SHARPEN)\n",
    "    pp.save('data/train/ice/' + x)\n",
    "print('processing icebergs')\n",
    "\n",
    "for x in ships:\n",
    "    pp = Image.open('data/train/ship/' + x)\n",
    "    pp = pp.filter(ImageFilter.MedianFilter(5))\n",
    "    pp = pp.filter(ImageFilter.SHARPEN)\n",
    "    pp.save('data/train/ship/' + x)\n",
    "print('processing ships')\n",
    "\n",
    "for x in test:\n",
    "    pp = Image.open('data/test/' + x)\n",
    "    pp = pp.filter(ImageFilter.MedianFilter(5))\n",
    "    pp = pp.filter(ImageFilter.SHARPEN)\n",
    "    pp = pp.save('data/test/' + x)\n",
    "print('processing test set')"
   ]
  },
  {
   "cell_type": "markdown",
   "metadata": {},
   "source": [
    "### 2.2 Create a Validation Set"
   ]
  },
  {
   "cell_type": "code",
   "execution_count": 24,
   "metadata": {},
   "outputs": [
    {
     "name": "stdout",
     "output_type": "stream",
     "text": [
      "851 753\n"
     ]
    }
   ],
   "source": [
    "# get list of directory\n",
    "ship = os.listdir(shipPath)\n",
    "ice  = os.listdir(icePath)\n",
    "\n",
    "# check num files\n",
    "print(len(ship), len(ice))\n",
    "\n",
    "sample_ice = np.random.choice(ice, size=1)\n",
    "sample_ice = list(set(sample_ice))\n",
    "sample_ship= np.random.choice(ship, size=1)\n",
    "sample_ship= list(set(sample_ship))"
   ]
  },
  {
   "cell_type": "markdown",
   "metadata": {},
   "source": [
    "#### Move files from training to test folder"
   ]
  },
  {
   "cell_type": "code",
   "execution_count": 26,
   "metadata": {},
   "outputs": [],
   "source": [
    "for x in sample_ice:\n",
    "    shutil.move(icePath + x, iceValid + x)\n",
    "\n",
    "for x in sample_ship:\n",
    "    shutil.move(shipPath + x, shipValid + x)"
   ]
  },
  {
   "cell_type": "markdown",
   "metadata": {},
   "source": [
    "#### Check training files moved to validation"
   ]
  },
  {
   "cell_type": "code",
   "execution_count": 27,
   "metadata": {},
   "outputs": [
    {
     "name": "stdout",
     "output_type": "stream",
     "text": [
      "850 752\n"
     ]
    }
   ],
   "source": [
    "ship = os.listdir(shipPath)\n",
    "ice  = os.listdir(icePath)\n",
    "\n",
    "# check num files\n",
    "print(len(ship), len(ice))"
   ]
  },
  {
   "cell_type": "markdown",
   "metadata": {},
   "source": [
    "#### Check size test set"
   ]
  },
  {
   "cell_type": "code",
   "execution_count": 28,
   "metadata": {},
   "outputs": [
    {
     "data": {
      "text/plain": [
       "8424"
      ]
     },
     "execution_count": 28,
     "metadata": {},
     "output_type": "execute_result"
    }
   ],
   "source": [
    "len(os.listdir(testPath))"
   ]
  },
  {
   "cell_type": "markdown",
   "metadata": {},
   "source": [
    "## 3. Try a basic `fastai` CNN"
   ]
  },
  {
   "cell_type": "markdown",
   "metadata": {},
   "source": [
    "`ImageClassifierData` is an instance that looks at the folder structure and takes care of labeling and grouping between the training, validation, and test sets.\n",
    "\n",
    "`test_name` = be sure to put the name of your test folder here. It doesn't have to be `'test'` but it should be consistent with whatever you named your folder.\n",
    "\n",
    "`ConvLearner` is the CNN we'll be training"
   ]
  },
  {
   "cell_type": "code",
   "execution_count": 57,
   "metadata": {},
   "outputs": [
    {
     "data": {
      "application/vnd.jupyter.widget-view+json": {
       "model_id": "2d36c889b0794c76900bb55cb0b58280",
       "version_major": 2,
       "version_minor": 0
      },
      "text/html": [
       "<p>Failed to display Jupyter Widget of type <code>HBox</code>.</p>\n",
       "<p>\n",
       "  If you're reading this message in the Jupyter Notebook or JupyterLab Notebook, it may mean\n",
       "  that the widgets JavaScript is still loading. If this message persists, it\n",
       "  likely means that the widgets JavaScript library is either not installed or\n",
       "  not enabled. See the <a href=\"https://ipywidgets.readthedocs.io/en/stable/user_install.html\">Jupyter\n",
       "  Widgets Documentation</a> for setup instructions.\n",
       "</p>\n",
       "<p>\n",
       "  If you're reading this message in another frontend (for example, a static\n",
       "  rendering on GitHub or <a href=\"https://nbviewer.jupyter.org/\">NBViewer</a>),\n",
       "  it may mean that your frontend doesn't currently support widgets.\n",
       "</p>\n"
      ],
      "text/plain": [
       "HBox(children=(IntProgress(value=0, description='Epoch', max=3), HTML(value='')))"
      ]
     },
     "metadata": {},
     "output_type": "display_data"
    },
    {
     "name": "stdout",
     "output_type": "stream",
     "text": [
      "epoch:   0, train_loss: 0.705541, val_loss: 0.526636, accuracy: 1.000000\n",
      "epoch:   1, train_loss: 0.698007, val_loss: 0.512263, accuracy: 0.500000\n",
      "epoch:   2, train_loss: 0.654048, val_loss: 0.657772, accuracy: 0.500000\n",
      "\n",
      "CPU times: user 21.4 s, sys: 8.29 s, total: 29.7 s\n",
      "Wall time: 28.1 s\n"
     ]
    }
   ],
   "source": [
    "%%time\n",
    "\n",
    "sz = 75\n",
    "# arch = resnet34\n",
    "# arch = resnet18\n",
    "arch = inceptionresnet_2\n",
    "data = ImageClassifierData.from_paths(PATH, tfms=tfms_from_model(arch, sz),\n",
    "                                      bs=32, test_name='test')\n",
    "learn = ConvLearner.pretrained(arch,data)\n",
    "learn.fit(1e-2, 3)"
   ]
  },
  {
   "cell_type": "code",
   "execution_count": 58,
   "metadata": {},
   "outputs": [
    {
     "data": {
      "application/vnd.jupyter.widget-view+json": {
       "model_id": "b2cdde88692341d39d55cb650cc05f06",
       "version_major": 2,
       "version_minor": 0
      },
      "text/html": [
       "<p>Failed to display Jupyter Widget of type <code>HBox</code>.</p>\n",
       "<p>\n",
       "  If you're reading this message in the Jupyter Notebook or JupyterLab Notebook, it may mean\n",
       "  that the widgets JavaScript is still loading. If this message persists, it\n",
       "  likely means that the widgets JavaScript library is either not installed or\n",
       "  not enabled. See the <a href=\"https://ipywidgets.readthedocs.io/en/stable/user_install.html\">Jupyter\n",
       "  Widgets Documentation</a> for setup instructions.\n",
       "</p>\n",
       "<p>\n",
       "  If you're reading this message in another frontend (for example, a static\n",
       "  rendering on GitHub or <a href=\"https://nbviewer.jupyter.org/\">NBViewer</a>),\n",
       "  it may mean that your frontend doesn't currently support widgets.\n",
       "</p>\n"
      ],
      "text/plain": [
       "HBox(children=(IntProgress(value=0, description='Epoch', max=1), HTML(value='')))"
      ]
     },
     "metadata": {},
     "output_type": "display_data"
    },
    {
     "name": "stdout",
     "output_type": "stream",
     "text": [
      " 88%|████████▊ | 45/51 [00:07<00:00,  6.13it/s, loss=2.45] \n",
      "                                                          \r"
     ]
    },
    {
     "data": {
      "image/png": "[encoded data removed]",
      "text/plain": [
       "<matplotlib.figure.Figure at 0x7f98c1127390>"
      ]
     },
     "metadata": {
      "image/png": {
       "height": 265,
       "width": 393
      }
     },
     "output_type": "display_data"
    }
   ],
   "source": [
    "lrf = learn.lr_find()\n",
    "learn.sched.plot()"
   ]
  },
  {
   "cell_type": "code",
   "execution_count": 59,
   "metadata": {},
   "outputs": [],
   "source": [
    "lr = 3e-3"
   ]
  },
  {
   "cell_type": "code",
   "execution_count": 60,
   "metadata": {},
   "outputs": [
    {
     "data": {
      "application/vnd.jupyter.widget-view+json": {
       "model_id": "e33a7578c2fb456680654a1577da6e6c",
       "version_major": 2,
       "version_minor": 0
      },
      "text/html": [
       "<p>Failed to display Jupyter Widget of type <code>HBox</code>.</p>\n",
       "<p>\n",
       "  If you're reading this message in the Jupyter Notebook or JupyterLab Notebook, it may mean\n",
       "  that the widgets JavaScript is still loading. If this message persists, it\n",
       "  likely means that the widgets JavaScript library is either not installed or\n",
       "  not enabled. See the <a href=\"https://ipywidgets.readthedocs.io/en/stable/user_install.html\">Jupyter\n",
       "  Widgets Documentation</a> for setup instructions.\n",
       "</p>\n",
       "<p>\n",
       "  If you're reading this message in another frontend (for example, a static\n",
       "  rendering on GitHub or <a href=\"https://nbviewer.jupyter.org/\">NBViewer</a>),\n",
       "  it may mean that your frontend doesn't currently support widgets.\n",
       "</p>\n"
      ],
      "text/plain": [
       "HBox(children=(IntProgress(value=0, description='Epoch', max=7), HTML(value='')))"
      ]
     },
     "metadata": {},
     "output_type": "display_data"
    },
    {
     "name": "stdout",
     "output_type": "stream",
     "text": [
      "epoch:   0, train_loss: 0.711616, val_loss: 0.570689, accuracy: 0.500000\n",
      "epoch:   1, train_loss: 0.617983, val_loss: 0.546725, accuracy: 0.500000\n",
      "epoch:   2, train_loss: 0.610180, val_loss: 0.467445, accuracy: 1.000000\n",
      "epoch:   3, train_loss: 0.591091, val_loss: 0.485374, accuracy: 1.000000\n",
      "epoch:   4, train_loss: 0.644294, val_loss: 0.573752, accuracy: 0.500000\n",
      "epoch:   5, train_loss: 0.586180, val_loss: 0.534644, accuracy: 1.000000\n",
      "epoch:   6, train_loss: 0.573675, val_loss: 0.557776, accuracy: 0.500000\n",
      "\n"
     ]
    }
   ],
   "source": [
    "learn.fit(lr, 3, cycle_len=1, cycle_mult=2)"
   ]
  },
  {
   "cell_type": "code",
   "execution_count": 61,
   "metadata": {},
   "outputs": [
    {
     "data": {
      "application/vnd.jupyter.widget-view+json": {
       "model_id": "b3d036fcc2c1480784ef9700a3a2e0e7",
       "version_major": 2,
       "version_minor": 0
      },
      "text/html": [
       "<p>Failed to display Jupyter Widget of type <code>HBox</code>.</p>\n",
       "<p>\n",
       "  If you're reading this message in the Jupyter Notebook or JupyterLab Notebook, it may mean\n",
       "  that the widgets JavaScript is still loading. If this message persists, it\n",
       "  likely means that the widgets JavaScript library is either not installed or\n",
       "  not enabled. See the <a href=\"https://ipywidgets.readthedocs.io/en/stable/user_install.html\">Jupyter\n",
       "  Widgets Documentation</a> for setup instructions.\n",
       "</p>\n",
       "<p>\n",
       "  If you're reading this message in another frontend (for example, a static\n",
       "  rendering on GitHub or <a href=\"https://nbviewer.jupyter.org/\">NBViewer</a>),\n",
       "  it may mean that your frontend doesn't currently support widgets.\n",
       "</p>\n"
      ],
      "text/plain": [
       "HBox(children=(IntProgress(value=0, description='Epoch', max=7), HTML(value='')))"
      ]
     },
     "metadata": {},
     "output_type": "display_data"
    },
    {
     "name": "stdout",
     "output_type": "stream",
     "text": [
      "epoch:   0, train_loss: 0.580049, val_loss: 0.531921, accuracy: 1.000000\n",
      "epoch:   1, train_loss: 0.556873, val_loss: 0.606347, accuracy: 1.000000\n",
      "epoch:   2, train_loss: 0.546220, val_loss: 0.547647, accuracy: 0.500000\n",
      "epoch:   3, train_loss: 0.571340, val_loss: 0.487536, accuracy: 1.000000\n",
      "epoch:   4, train_loss: 0.580353, val_loss: 0.585373, accuracy: 1.000000\n",
      "epoch:   5, train_loss: 0.573155, val_loss: 0.544759, accuracy: 0.500000\n",
      "epoch:   6, train_loss: 0.553728, val_loss: 0.582847, accuracy: 0.500000\n",
      "\n"
     ]
    }
   ],
   "source": [
    "learn.fit(lr, 3, cycle_len=1, cycle_mult=2)"
   ]
  },
  {
   "cell_type": "code",
   "execution_count": 62,
   "metadata": {},
   "outputs": [],
   "source": [
    "learn.unfreeze()\n",
    "learn.data.bs = 6\n",
    "lr = lr / (32/6) # learning rate originally 3e-3"
   ]
  },
  {
   "cell_type": "code",
   "execution_count": 63,
   "metadata": {},
   "outputs": [],
   "source": [
    "lrs = np.array([lr/14, lr/7, lr])\n",
    "# use lr/1e2 and lr/1e1 respectively if images would've been larger in size"
   ]
  },
  {
   "cell_type": "code",
   "execution_count": 64,
   "metadata": {},
   "outputs": [
    {
     "data": {
      "application/vnd.jupyter.widget-view+json": {
       "model_id": "feaa940214da4a8bbc89130834e9f746",
       "version_major": 2,
       "version_minor": 0
      },
      "text/html": [
       "<p>Failed to display Jupyter Widget of type <code>HBox</code>.</p>\n",
       "<p>\n",
       "  If you're reading this message in the Jupyter Notebook or JupyterLab Notebook, it may mean\n",
       "  that the widgets JavaScript is still loading. If this message persists, it\n",
       "  likely means that the widgets JavaScript library is either not installed or\n",
       "  not enabled. See the <a href=\"https://ipywidgets.readthedocs.io/en/stable/user_install.html\">Jupyter\n",
       "  Widgets Documentation</a> for setup instructions.\n",
       "</p>\n",
       "<p>\n",
       "  If you're reading this message in another frontend (for example, a static\n",
       "  rendering on GitHub or <a href=\"https://nbviewer.jupyter.org/\">NBViewer</a>),\n",
       "  it may mean that your frontend doesn't currently support widgets.\n",
       "</p>\n"
      ],
      "text/plain": [
       "HBox(children=(IntProgress(value=0, description='Epoch', max=7), HTML(value='')))"
      ]
     },
     "metadata": {},
     "output_type": "display_data"
    },
    {
     "name": "stdout",
     "output_type": "stream",
     "text": [
      "epoch:   0, train_loss: 0.777872, val_loss: 4.206906, accuracy: 0.500000\n",
      "epoch:   1, train_loss: 0.627440, val_loss: 13.481349, accuracy: 0.000000\n",
      "epoch:   2, train_loss: 0.568531, val_loss: 0.673095, accuracy: 0.500000\n",
      "epoch:   3, train_loss: 0.495213, val_loss: 1.555458, accuracy: 0.500000\n",
      "epoch:   4, train_loss: 0.543799, val_loss: 6571.040527, accuracy: 0.500000\n",
      "epoch:   5, train_loss: 0.643674, val_loss: 1.070360, accuracy: 0.000000\n",
      "epoch:   6, train_loss: 0.642574, val_loss: 0.615660, accuracy: 0.500000\n",
      "\n"
     ]
    }
   ],
   "source": [
    "learn.fit(lrs, 3, cycle_len=1, cycle_mult=2)"
   ]
  },
  {
   "cell_type": "code",
   "execution_count": 65,
   "metadata": {},
   "outputs": [
    {
     "data": {
      "text/plain": [
       "(0.1875, 1.0)"
      ]
     },
     "execution_count": 65,
     "metadata": {},
     "output_type": "execute_result"
    }
   ],
   "source": [
    "1 / (32/6), (1/(32/6))/(6/32)"
   ]
  },
  {
   "cell_type": "code",
   "execution_count": 66,
   "metadata": {},
   "outputs": [],
   "source": [
    "learn.freeze()\n",
    "learn.data.bs=32\n",
    "lr = lr / (6/32)"
   ]
  },
  {
   "cell_type": "code",
   "execution_count": 67,
   "metadata": {},
   "outputs": [
    {
     "data": {
      "application/vnd.jupyter.widget-view+json": {
       "model_id": "6e5a3cfb31cb410c85c3f66c2a05919a",
       "version_major": 2,
       "version_minor": 0
      },
      "text/html": [
       "<p>Failed to display Jupyter Widget of type <code>HBox</code>.</p>\n",
       "<p>\n",
       "  If you're reading this message in the Jupyter Notebook or JupyterLab Notebook, it may mean\n",
       "  that the widgets JavaScript is still loading. If this message persists, it\n",
       "  likely means that the widgets JavaScript library is either not installed or\n",
       "  not enabled. See the <a href=\"https://ipywidgets.readthedocs.io/en/stable/user_install.html\">Jupyter\n",
       "  Widgets Documentation</a> for setup instructions.\n",
       "</p>\n",
       "<p>\n",
       "  If you're reading this message in another frontend (for example, a static\n",
       "  rendering on GitHub or <a href=\"https://nbviewer.jupyter.org/\">NBViewer</a>),\n",
       "  it may mean that your frontend doesn't currently support widgets.\n",
       "</p>\n"
      ],
      "text/plain": [
       "HBox(children=(IntProgress(value=0, description='Epoch', max=7), HTML(value='')))"
      ]
     },
     "metadata": {},
     "output_type": "display_data"
    },
    {
     "name": "stdout",
     "output_type": "stream",
     "text": [
      "epoch:   0, train_loss: 0.592825, val_loss: 0.582250, accuracy: 0.500000\n",
      "epoch:   1, train_loss: 0.554472, val_loss: 0.616713, accuracy: 0.500000\n",
      "epoch:   2, train_loss: 0.569836, val_loss: 0.571422, accuracy: 0.500000\n",
      "epoch:   3, train_loss: 0.564584, val_loss: 0.654299, accuracy: 0.500000\n",
      "epoch:   4, train_loss: 0.530406, val_loss: 0.507393, accuracy: 0.500000\n",
      "epoch:   5, train_loss: 0.523236, val_loss: 0.571249, accuracy: 0.500000\n",
      "epoch:   6, train_loss: 0.513759, val_loss: 0.545141, accuracy: 0.500000\n",
      "\n"
     ]
    }
   ],
   "source": [
    "learn.fit(lr, 3, cycle_len=1, cycle_mult=2)"
   ]
  },
  {
   "cell_type": "code",
   "execution_count": 68,
   "metadata": {},
   "outputs": [
    {
     "data": {
      "application/vnd.jupyter.widget-view+json": {
       "model_id": "2ff66eb5592d474184699a08775e3d83",
       "version_major": 2,
       "version_minor": 0
      },
      "text/html": [
       "<p>Failed to display Jupyter Widget of type <code>HBox</code>.</p>\n",
       "<p>\n",
       "  If you're reading this message in the Jupyter Notebook or JupyterLab Notebook, it may mean\n",
       "  that the widgets JavaScript is still loading. If this message persists, it\n",
       "  likely means that the widgets JavaScript library is either not installed or\n",
       "  not enabled. See the <a href=\"https://ipywidgets.readthedocs.io/en/stable/user_install.html\">Jupyter\n",
       "  Widgets Documentation</a> for setup instructions.\n",
       "</p>\n",
       "<p>\n",
       "  If you're reading this message in another frontend (for example, a static\n",
       "  rendering on GitHub or <a href=\"https://nbviewer.jupyter.org/\">NBViewer</a>),\n",
       "  it may mean that your frontend doesn't currently support widgets.\n",
       "</p>\n"
      ],
      "text/plain": [
       "HBox(children=(IntProgress(value=0, description='Epoch', max=7), HTML(value='')))"
      ]
     },
     "metadata": {},
     "output_type": "display_data"
    },
    {
     "name": "stdout",
     "output_type": "stream",
     "text": [
      "epoch:   0, train_loss: 0.521997, val_loss: 0.512084, accuracy: 0.500000\n",
      "epoch:   1, train_loss: 0.499135, val_loss: 0.640148, accuracy: 0.500000\n",
      "epoch:   2, train_loss: 0.493229, val_loss: 0.597776, accuracy: 0.500000\n",
      "epoch:   3, train_loss: 0.490864, val_loss: 0.593194, accuracy: 0.500000\n",
      "epoch:   4, train_loss: 0.495848, val_loss: 0.538949, accuracy: 0.500000\n",
      "epoch:   5, train_loss: 0.484356, val_loss: 0.515972, accuracy: 0.500000\n",
      "epoch:   6, train_loss: 0.478068, val_loss: 0.518013, accuracy: 0.500000\n",
      "\n"
     ]
    }
   ],
   "source": [
    "learn.fit(lr/2, 3, cycle_len=1, cycle_mult=2)"
   ]
  },
  {
   "cell_type": "markdown",
   "metadata": {},
   "source": [
    "## 3.1 Test Data"
   ]
  },
  {
   "cell_type": "code",
   "execution_count": 69,
   "metadata": {},
   "outputs": [
    {
     "name": "stdout",
     "output_type": "stream",
     "text": [
      "CPU times: user 2min 50s, sys: 1min 7s, total: 3min 57s\n",
      "Wall time: 3min 22s\n"
     ]
    }
   ],
   "source": [
    "%%time\n",
    "log_preds, y = learn.TTA(is_test=True)"
   ]
  },
  {
   "cell_type": "code",
   "execution_count": 70,
   "metadata": {},
   "outputs": [],
   "source": [
    "ice_preds = np.mean(np.exp(log_preds), 0)"
   ]
  },
  {
   "cell_type": "code",
   "execution_count": 71,
   "metadata": {},
   "outputs": [],
   "source": [
    "df = pd.DataFrame(ice_preds)\n",
    "df.columns = data.classes"
   ]
  },
  {
   "cell_type": "code",
   "execution_count": 72,
   "metadata": {},
   "outputs": [],
   "source": [
    "df.insert(0, 'id', [y.split('/')[-1].split('_')[-1].split('.')[0] for y in \n",
    "                    data.test_ds.fnames])"
   ]
  },
  {
   "cell_type": "code",
   "execution_count": 73,
   "metadata": {},
   "outputs": [],
   "source": [
    "sub = df[['id', 'ice']]\n",
    "sub.columns = ['id', 'is_iceberg']"
   ]
  },
  {
   "cell_type": "code",
   "execution_count": 74,
   "metadata": {},
   "outputs": [],
   "source": [
    "sub.to_csv('data/subm/iceberg_sub_k-3_IRNv2.csv',index=False)"
   ]
  },
  {
   "cell_type": "code",
   "execution_count": 39,
   "metadata": {},
   "outputs": [
    {
     "data": {
      "text/html": [
       "<a href='data/subm/iceberg_sub_k-1.csv' target='_blank'>data/subm/iceberg_sub_k-1.csv</a><br>"
      ],
      "text/plain": [
       "/home/wnixalo/iceberg/data/subm/iceberg_sub_k-1.csv"
      ]
     },
     "execution_count": 39,
     "metadata": {},
     "output_type": "execute_result"
    }
   ],
   "source": [
    "FileLink('data/subm/iceberg_sub_k-1.csv')"
   ]
  },
  {
   "cell_type": "code",
   "execution_count": 53,
   "metadata": {},
   "outputs": [
    {
     "data": {
      "text/html": [
       "<a href='data/subm/iceberg_sub_k-2_RN18.csv' target='_blank'>data/subm/iceberg_sub_k-2_RN18.csv</a><br>"
      ],
      "text/plain": [
       "/home/wnixalo/iceberg/data/subm/iceberg_sub_k-2_RN18.csv"
      ]
     },
     "execution_count": 53,
     "metadata": {},
     "output_type": "execute_result"
    }
   ],
   "source": [
    "FileLink('data/subm/iceberg_sub_k-2_RN18.csv')"
   ]
  },
  {
   "cell_type": "code",
   "execution_count": 75,
   "metadata": {},
   "outputs": [
    {
     "data": {
      "text/html": [
       "<a href='data/subm/iceberg_sub_k-3_IRNv2.csv' target='_blank'>data/subm/iceberg_sub_k-3_IRNv2.csv</a><br>"
      ],
      "text/plain": [
       "/home/wnixalo/iceberg/data/subm/iceberg_sub_k-3_IRNv2.csv"
      ]
     },
     "execution_count": 75,
     "metadata": {},
     "output_type": "execute_result"
    }
   ],
   "source": [
    "FileLink('data/subm/iceberg_sub_k-3_IRNv2.csv')"
   ]
  },
  {
   "cell_type": "code",
   "execution_count": null,
   "metadata": {},
   "outputs": [],
   "source": []
  }
 ],
 "metadata": {
  "kernelspec": {
   "display_name": "Python 3 (FastAI)",
   "language": "python",
   "name": "fastai"
  },
  "language_info": {
   "codemirror_mode": {
    "name": "ipython",
    "version": 3
   },
   "file_extension": ".py",
   "mimetype": "text/x-python",
   "name": "python",
   "nbconvert_exporter": "python",
   "pygments_lexer": "ipython3",
   "version": "3.6.4"
  }
 },
 "nbformat": 4,
 "nbformat_minor": 2
}
