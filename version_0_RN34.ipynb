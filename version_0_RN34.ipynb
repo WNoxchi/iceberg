{
 "cells": [
  {
   "cell_type": "markdown",
   "metadata": {},
   "source": [
    "# Version 0\n",
    "\n",
    "Ignore Inclination. RN34\n",
    "\n",
    "WNixalo - 21:48 21-Jan-2018"
   ]
  },
  {
   "cell_type": "code",
   "execution_count": 2,
   "metadata": {},
   "outputs": [],
   "source": [
    "from fastai.conv_learner import *\n",
    "from fastai.model import *\n",
    "import json"
   ]
  },
  {
   "cell_type": "code",
   "execution_count": 4,
   "metadata": {},
   "outputs": [],
   "source": [
    "def array_to_np_band(data_array, key=None):\n",
    "    \"\"\"Returns an (n,75,75,1) ndarray from Statoil radar bands\"\"\"\n",
    "    if key==None:\n",
    "        print(\"Error: Key not specified\")\n",
    "        return\n",
    "    return np.expand_dims(np.array([np.array(band[key]).astype(np.float32).reshape(75,75) for \n",
    "                     band in data_array]), axis=-1)"
   ]
  },
  {
   "cell_type": "code",
   "execution_count": 3,
   "metadata": {},
   "outputs": [],
   "source": [
    "with open('data/train.json') as jfile:\n",
    "    train_dataset = json.load(jfile)"
   ]
  },
  {
   "cell_type": "code",
   "execution_count": 8,
   "metadata": {},
   "outputs": [],
   "source": [
    "train_band_1 = array_to_np_band(train_dataset, 'band_1')\n",
    "train_band_2 = array_to_np_band(train_dataset, 'band_2')\n",
    "train_band_z = np.zeros(train_band_1.shape).astype(np.float32)\n",
    "\n",
    "train_bands = np.concatenate([train_band_1, train_band_2, train_band_z], axis=-1)"
   ]
  },
  {
   "cell_type": "code",
   "execution_count": 9,
   "metadata": {},
   "outputs": [],
   "source": [
    "labels  = np.array([datum['is_iceberg'] for datum in train_dataset])\n",
    "train_ids = np.array([datum['id'] for datum in train_dataset])"
   ]
  },
  {
   "cell_type": "code",
   "execution_count": 10,
   "metadata": {},
   "outputs": [],
   "source": [
    "n = len(labels)\n",
    "val_idxs = get_cv_idxs(n)\n",
    "val_idxs = np.array(val_idxs)"
   ]
  },
  {
   "cell_type": "code",
   "execution_count": 47,
   "metadata": {},
   "outputs": [],
   "source": [
    "# because I don't know how to use split_by_idx properly, \n",
    "# and I want to get something done quickly (efficiency dies tonight)\n",
    "trn_idxs = np.array([i for i in range(n) if i not in val_idxs])"
   ]
  },
  {
   "cell_type": "code",
   "execution_count": 49,
   "metadata": {},
   "outputs": [],
   "source": [
    "# check to make sure nothing is in both sets\n",
    "for i in range(n):\n",
    "    if i in trn_idxs and i in val_idxs:\n",
    "        print(\"oh shit\")"
   ]
  },
  {
   "cell_type": "code",
   "execution_count": 64,
   "metadata": {},
   "outputs": [],
   "source": [
    "# split train/val ids,labels,arrays\n",
    "(val_y, trn_y) = (labels[val_idxs], labels[trn_idxs])\n",
    "(val_ids, trn_ids) = (train_ids[val_idxs], train_ids[trn_idxs])\n",
    "(val_data, trn_data) = (train_bands[val_idxs], train_bands[trn_idxs])"
   ]
  },
  {
   "cell_type": "code",
   "execution_count": 90,
   "metadata": {},
   "outputs": [
    {
     "data": {
      "text/plain": [
       "(False, False, False)"
      ]
     },
     "execution_count": 90,
     "metadata": {},
     "output_type": "execute_result"
    }
   ],
   "source": [
    "# more checking that the correct labels are going where they should\n",
    "(False in np.isclose(labels[val_idxs[:]], val_y[:]),\n",
    " False in [i==j for i,j in zip(train_ids[val_idxs], val_ids)],\n",
    " False in np.isclose(train_bands[val_idxs], val_data))"
   ]
  },
  {
   "cell_type": "code",
   "execution_count": 85,
   "metadata": {},
   "outputs": [
    {
     "data": {
      "text/plain": [
       "[False]"
      ]
     },
     "execution_count": 85,
     "metadata": {},
     "output_type": "execute_result"
    }
   ],
   "source": [
    "a,b = ['a'],['b']\n",
    "[i==j for i,j in zip(a,b)]"
   ]
  },
  {
   "cell_type": "code",
   "execution_count": 87,
   "metadata": {},
   "outputs": [
    {
     "data": {
      "text/plain": [
       "[['b', 'a']]"
      ]
     },
     "execution_count": 87,
     "metadata": {},
     "output_type": "execute_result"
    }
   ],
   "source": [
    "[[j,i] for i,j in zip(a,b)]"
   ]
  },
  {
   "cell_type": "code",
   "execution_count": 97,
   "metadata": {},
   "outputs": [],
   "source": [
    "train_array = (trn_data,trn_y)\n",
    "val_array   = (val_data,val_y)"
   ]
  },
  {
   "cell_type": "markdown",
   "metadata": {},
   "source": [
    "My validation indices were all screwed up because I misused `split_by_idx`. I'll figure out how to use it properly later, but right now I want to get a basic set of submissions out tonight. So I did a very brute-force validation split above. Now that I'm confident the data is split properly, I'm going to restart training."
   ]
  },
  {
   "cell_type": "code",
   "execution_count": 98,
   "metadata": {},
   "outputs": [],
   "source": [
    "sz = 75\n",
    "bs = 32\n",
    "f_model = resnet34\n",
    "PATH = 'data/'\n",
    "tfms = tfms_from_model(f_model, sz, aug_tfms=transforms_top_down, max_zoom=1.05)\n",
    "data = ImageClassifierData.from_arrays(PATH, train_array, val_array, tfms=tfms, bs=bs, \n",
    "                                       num_workers=8, classes=['0','1'], test=None)"
   ]
  },
  {
   "cell_type": "code",
   "execution_count": 99,
   "metadata": {},
   "outputs": [],
   "source": [
    "learner = ConvLearner.pretrained(f_model, data, precompute=False)"
   ]
  },
  {
   "cell_type": "code",
   "execution_count": 100,
   "metadata": {},
   "outputs": [
    {
     "data": {
      "application/vnd.jupyter.widget-view+json": {
       "model_id": "6e6506db99c4489887e99e61ed0926f3",
       "version_major": 2,
       "version_minor": 0
      },
      "text/html": [
       "<p>Failed to display Jupyter Widget of type <code>HBox</code>.</p>\n",
       "<p>\n",
       "  If you're reading this message in the Jupyter Notebook or JupyterLab Notebook, it may mean\n",
       "  that the widgets JavaScript is still loading. If this message persists, it\n",
       "  likely means that the widgets JavaScript library is either not installed or\n",
       "  not enabled. See the <a href=\"https://ipywidgets.readthedocs.io/en/stable/user_install.html\">Jupyter\n",
       "  Widgets Documentation</a> for setup instructions.\n",
       "</p>\n",
       "<p>\n",
       "  If you're reading this message in another frontend (for example, a static\n",
       "  rendering on GitHub or <a href=\"https://nbviewer.jupyter.org/\">NBViewer</a>),\n",
       "  it may mean that your frontend doesn't currently support widgets.\n",
       "</p>\n"
      ],
      "text/plain": [
       "HBox(children=(IntProgress(value=0, description='Epoch', max=1), HTML(value='')))"
      ]
     },
     "metadata": {},
     "output_type": "display_data"
    },
    {
     "name": "stdout",
     "output_type": "stream",
     "text": [
      " 90%|█████████ | 37/41 [00:02<00:00, 13.70it/s, loss=8.8]  \n",
      "                                                         \r"
     ]
    },
    {
     "data": {
      "image/png": "[encoded data removed]",
      "text/plain": [
       "<matplotlib.figure.Figure at 0x7f49943896d8>"
      ]
     },
     "metadata": {},
     "output_type": "display_data"
    }
   ],
   "source": [
    "learner.lr_find()\n",
    "learner.sched.plot()"
   ]
  },
  {
   "cell_type": "code",
   "execution_count": 101,
   "metadata": {},
   "outputs": [],
   "source": [
    "lr = 2e-3"
   ]
  },
  {
   "cell_type": "code",
   "execution_count": 102,
   "metadata": {},
   "outputs": [
    {
     "data": {
      "application/vnd.jupyter.widget-view+json": {
       "model_id": "197dc1589ed44f46a5a6512d08b5e8a6",
       "version_major": 2,
       "version_minor": 0
      },
      "text/html": [
       "<p>Failed to display Jupyter Widget of type <code>HBox</code>.</p>\n",
       "<p>\n",
       "  If you're reading this message in the Jupyter Notebook or JupyterLab Notebook, it may mean\n",
       "  that the widgets JavaScript is still loading. If this message persists, it\n",
       "  likely means that the widgets JavaScript library is either not installed or\n",
       "  not enabled. See the <a href=\"https://ipywidgets.readthedocs.io/en/stable/user_install.html\">Jupyter\n",
       "  Widgets Documentation</a> for setup instructions.\n",
       "</p>\n",
       "<p>\n",
       "  If you're reading this message in another frontend (for example, a static\n",
       "  rendering on GitHub or <a href=\"https://nbviewer.jupyter.org/\">NBViewer</a>),\n",
       "  it may mean that your frontend doesn't currently support widgets.\n",
       "</p>\n"
      ],
      "text/plain": [
       "HBox(children=(IntProgress(value=0, description='Epoch', max=1), HTML(value='')))"
      ]
     },
     "metadata": {},
     "output_type": "display_data"
    },
    {
     "name": "stdout",
     "output_type": "stream",
     "text": [
      "epoch:   0, train_loss: 0.736958, val_loss: 45.370689, accuracy: 0.487500\n",
      "\n"
     ]
    }
   ],
   "source": [
    "learner.fit(lrs=lr, n_cycle=1, cycle_len=1, cycle_mult=1)"
   ]
  },
  {
   "cell_type": "code",
   "execution_count": 103,
   "metadata": {},
   "outputs": [
    {
     "data": {
      "application/vnd.jupyter.widget-view+json": {
       "model_id": "dc406b72e8b34ce9bed631472b9aa42d",
       "version_major": 2,
       "version_minor": 0
      },
      "text/html": [
       "<p>Failed to display Jupyter Widget of type <code>HBox</code>.</p>\n",
       "<p>\n",
       "  If you're reading this message in the Jupyter Notebook or JupyterLab Notebook, it may mean\n",
       "  that the widgets JavaScript is still loading. If this message persists, it\n",
       "  likely means that the widgets JavaScript library is either not installed or\n",
       "  not enabled. See the <a href=\"https://ipywidgets.readthedocs.io/en/stable/user_install.html\">Jupyter\n",
       "  Widgets Documentation</a> for setup instructions.\n",
       "</p>\n",
       "<p>\n",
       "  If you're reading this message in another frontend (for example, a static\n",
       "  rendering on GitHub or <a href=\"https://nbviewer.jupyter.org/\">NBViewer</a>),\n",
       "  it may mean that your frontend doesn't currently support widgets.\n",
       "</p>\n"
      ],
      "text/plain": [
       "HBox(children=(IntProgress(value=0, description='Epoch', max=3), HTML(value='')))"
      ]
     },
     "metadata": {},
     "output_type": "display_data"
    },
    {
     "name": "stdout",
     "output_type": "stream",
     "text": [
      "epoch:   0, train_loss: 0.692631, val_loss: 157.376373, accuracy: 0.487500\n",
      "epoch:   1, train_loss: 0.699772, val_loss: 209.286774, accuracy: 0.487500\n",
      "epoch:   2, train_loss: 0.672299, val_loss: 231.191452, accuracy: 0.487500\n",
      "\n"
     ]
    }
   ],
   "source": [
    "learner.fit(lrs=lr, n_cycle=3, cycle_len=1, cycle_mult=1)"
   ]
  },
  {
   "cell_type": "markdown",
   "metadata": {},
   "source": [
    "And I get exactly the same behavior as before."
   ]
  },
  {
   "cell_type": "code",
   "execution_count": 104,
   "metadata": {},
   "outputs": [
    {
     "data": {
      "application/vnd.jupyter.widget-view+json": {
       "model_id": "379589ff87dc4763b60fa69353617ef2",
       "version_major": 2,
       "version_minor": 0
      },
      "text/html": [
       "<p>Failed to display Jupyter Widget of type <code>HBox</code>.</p>\n",
       "<p>\n",
       "  If you're reading this message in the Jupyter Notebook or JupyterLab Notebook, it may mean\n",
       "  that the widgets JavaScript is still loading. If this message persists, it\n",
       "  likely means that the widgets JavaScript library is either not installed or\n",
       "  not enabled. See the <a href=\"https://ipywidgets.readthedocs.io/en/stable/user_install.html\">Jupyter\n",
       "  Widgets Documentation</a> for setup instructions.\n",
       "</p>\n",
       "<p>\n",
       "  If you're reading this message in another frontend (for example, a static\n",
       "  rendering on GitHub or <a href=\"https://nbviewer.jupyter.org/\">NBViewer</a>),\n",
       "  it may mean that your frontend doesn't currently support widgets.\n",
       "</p>\n"
      ],
      "text/plain": [
       "HBox(children=(IntProgress(value=0, description='Epoch', max=15), HTML(value='')))"
      ]
     },
     "metadata": {},
     "output_type": "display_data"
    },
    {
     "name": "stdout",
     "output_type": "stream",
     "text": [
      "epoch:   0, train_loss: 0.691359, val_loss: 187.722580, accuracy: 0.487500\n",
      "epoch:   1, train_loss: 0.675934, val_loss: 231.746490, accuracy: 0.487500\n",
      "epoch:   2, train_loss: 0.638727, val_loss: 186.051117, accuracy: 0.487500\n",
      "epoch:   3, train_loss: 0.619138, val_loss: 292.729095, accuracy: 0.487500\n",
      "epoch:   4, train_loss: 0.605768, val_loss: 175.610397, accuracy: 0.487500\n",
      "epoch:   5, train_loss: 0.599877, val_loss: 92.566299, accuracy: 0.487500\n",
      "epoch:   6, train_loss: 0.606411, val_loss: 117.450378, accuracy: 0.487500\n",
      "epoch:   7, train_loss: 0.619443, val_loss: 115.358292, accuracy: 0.487500\n",
      "epoch:   8, train_loss: 0.612259, val_loss: 81.305344, accuracy: 0.487500\n",
      "epoch:   9, train_loss: 0.619071, val_loss: 120.547073, accuracy: 0.487500\n",
      "epoch:  10, train_loss: 0.604540, val_loss: 209.776276, accuracy: 0.487500\n",
      "epoch:  11, train_loss: 0.600659, val_loss: 166.227341, accuracy: 0.487500\n",
      "epoch:  12, train_loss: 0.594994, val_loss: 155.970917, accuracy: 0.487500\n",
      "epoch:  13, train_loss: 0.580246, val_loss: 167.884201, accuracy: 0.487500\n",
      "epoch:  14, train_loss: 0.584180, val_loss: 171.296158, accuracy: 0.487500\n",
      "\n"
     ]
    }
   ],
   "source": [
    "learner.fit(lrs=lr, n_cycle=4, cycle_len=1, cycle_mult=2)"
   ]
  },
  {
   "cell_type": "markdown",
   "metadata": {},
   "source": [
    "Okay. This is not good.\n",
    "\n",
    "22:30 21-Jan-2018"
   ]
  }
 ],
 "metadata": {
  "kernelspec": {
   "display_name": "Python 3 (FastAI)",
   "language": "python",
   "name": "fastai"
  },
  "language_info": {
   "codemirror_mode": {
    "name": "ipython",
    "version": 3
   },
   "file_extension": ".py",
   "mimetype": "text/x-python",
   "name": "python",
   "nbconvert_exporter": "python",
   "pygments_lexer": "ipython3",
   "version": "3.6.4"
  }
 },
 "nbformat": 4,
 "nbformat_minor": 2
}
